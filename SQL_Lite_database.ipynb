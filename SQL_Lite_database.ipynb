{
 "cells": [
  {
   "cell_type": "code",
   "execution_count": 2,
   "id": "4992e405",
   "metadata": {},
   "outputs": [
    {
     "name": "stdout",
     "output_type": "stream",
     "text": [
      "2.6.0\n"
     ]
    }
   ],
   "source": [
    "import sqlite3\n",
    "from sqlite3 import Error\n",
    "\n",
    "\n",
    "def create_connection(db_file):\n",
    "    \"\"\" create a database connection to a SQLite database \"\"\"\n",
    "    conn = None\n",
    "    try:\n",
    "        conn = sqlite3.connect(db_file)\n",
    "        print(sqlite3.version)\n",
    "    except Error as e:\n",
    "        print(e)\n",
    "    finally:\n",
    "        if conn:\n",
    "            conn.close()\n",
    "\n",
    "\n",
    "if __name__ == '__main__':\n",
    "    create_connection(\"Beer_fun.db\")"
   ]
  },
  {
   "cell_type": "code",
   "execution_count": null,
   "id": "29b6b24c",
   "metadata": {},
   "outputs": [],
   "source": [
    "\n",
    "def create_table(conn, create_table_sql):\n",
    "    \"\"\" create a table from the create_table_sql statement\n",
    "    :param conn: Connection object\n",
    "    :param create_table_sql: a CREATE TABLE statement\n",
    "    :return:\n",
    "    \"\"\"\n",
    "    try:\n",
    "        c = conn.cursor()\n",
    "        c.execute(create_table_sql)\n",
    "    except Error as e:\n",
    "        print(e)\n",
    "\n",
    "\n",
    "def main():\n",
    "    database = r\"C:\\sqlite\\db\\pythonsqlite.db\"\n",
    "\n",
    "    sql_create_projects_table = \"\"\" CREATE TABLE IF NOT EXISTS projects (\n",
    "                                        id integer PRIMARY KEY,\n",
    "                                        name text NOT NULL,\n",
    "                                        begin_date text,\n",
    "                                        end_date text\n",
    "                                    ); \"\"\"\n",
    "\n",
    "    sql_create_tasks_table = \"\"\"CREATE TABLE IF NOT EXISTS tasks (\n",
    "                                    id integer PRIMARY KEY,\n",
    "                                    name text NOT NULL,\n",
    "                                    priority integer,\n",
    "                                    status_id integer NOT NULL,\n",
    "                                    project_id integer NOT NULL,\n",
    "                                    begin_date text NOT NULL,\n",
    "                                    end_date text NOT NULL,\n",
    "                                    FOREIGN KEY (project_id) REFERENCES projects (id)\n",
    "                                );\"\"\"\n",
    "\n",
    "    # create a database connection\n",
    "    conn = create_connection(database)\n",
    "\n",
    "    # create tables\n",
    "    if conn is not None:\n",
    "        # create projects table\n",
    "        create_table(conn, sql_create_projects_table)\n",
    "\n",
    "        # create tasks table\n",
    "        create_table(conn, sql_create_tasks_table)\n",
    "    else:\n",
    "        print(\"Error! cannot create the database connection.\")\n",
    "\n",
    "\n",
    "if __name__ == '__main__':\n",
    "    main()"
   ]
  }
 ],
 "metadata": {
  "kernelspec": {
   "display_name": "PythonData",
   "language": "python",
   "name": "pythondata"
  },
  "language_info": {
   "codemirror_mode": {
    "name": "ipython",
    "version": 3
   },
   "file_extension": ".py",
   "mimetype": "text/x-python",
   "name": "python",
   "nbconvert_exporter": "python",
   "pygments_lexer": "ipython3",
   "version": "3.7.13"
  }
 },
 "nbformat": 4,
 "nbformat_minor": 5
}
